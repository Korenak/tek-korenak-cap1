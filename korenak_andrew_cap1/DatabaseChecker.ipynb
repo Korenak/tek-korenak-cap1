{
 "cells": [
  {
   "cell_type": "markdown",
   "id": "cdf69da3",
   "metadata": {},
   "source": [
    "# Database Health Checkup"
   ]
  },
  {
   "cell_type": "markdown",
   "id": "4e83036b",
   "metadata": {},
   "source": [
    "## Setup"
   ]
  },
  {
   "cell_type": "code",
   "execution_count": 1,
   "id": "9a1329dd",
   "metadata": {},
   "outputs": [
    {
     "name": "stdout",
     "output_type": "stream",
     "text": [
      "Requirement already satisfied: pymysql in c:\\programdata\\anaconda3\\lib\\site-packages (1.0.2)\n",
      "Note: you may need to restart the kernel to use updated packages.\n"
     ]
    }
   ],
   "source": [
    "pip install pymysql"
   ]
  },
  {
   "cell_type": "code",
   "execution_count": 2,
   "id": "2d94643c",
   "metadata": {},
   "outputs": [],
   "source": [
    "import pandas as pd\n",
    "from sqlalchemy import create_engine\n",
    "import pymysql\n",
    "import config\n",
    "conn= \"mysql+pymysql://{0}:{1}@{2}/{3}\".format(config.username, config.password, config.host, config.schema)\n",
    "engine = create_engine(conn, echo=False)"
   ]
  },
  {
   "cell_type": "code",
   "execution_count": 3,
   "id": "d755f9aa",
   "metadata": {},
   "outputs": [],
   "source": [
    "sitesales= pd.read_sql_table('sitesales',engine)"
   ]
  },
  {
   "cell_type": "code",
   "execution_count": 4,
   "id": "3829a9cf",
   "metadata": {},
   "outputs": [
    {
     "data": {
      "text/html": [
       "<div>\n",
       "<style scoped>\n",
       "    .dataframe tbody tr th:only-of-type {\n",
       "        vertical-align: middle;\n",
       "    }\n",
       "\n",
       "    .dataframe tbody tr th {\n",
       "        vertical-align: top;\n",
       "    }\n",
       "\n",
       "    .dataframe thead th {\n",
       "        text-align: right;\n",
       "    }\n",
       "</style>\n",
       "<table border=\"1\" class=\"dataframe\">\n",
       "  <thead>\n",
       "    <tr style=\"text-align: right;\">\n",
       "      <th></th>\n",
       "      <th>id</th>\n",
       "      <th>sales_year</th>\n",
       "      <th>sales_week</th>\n",
       "      <th>sales_team</th>\n",
       "      <th>prod_code</th>\n",
       "      <th>prod_sold</th>\n",
       "      <th>esp_code</th>\n",
       "      <th>esp_sold</th>\n",
       "    </tr>\n",
       "  </thead>\n",
       "  <tbody>\n",
       "    <tr>\n",
       "      <th>0</th>\n",
       "      <td>1</td>\n",
       "      <td>2022</td>\n",
       "      <td>0</td>\n",
       "      <td>EMP234</td>\n",
       "      <td>PROD_001</td>\n",
       "      <td>123</td>\n",
       "      <td>ESP_001</td>\n",
       "      <td>333</td>\n",
       "    </tr>\n",
       "    <tr>\n",
       "      <th>1</th>\n",
       "      <td>3</td>\n",
       "      <td>2022</td>\n",
       "      <td>8</td>\n",
       "      <td>EMP256</td>\n",
       "      <td>PROD_008</td>\n",
       "      <td>0</td>\n",
       "      <td>ESP_008</td>\n",
       "      <td>0</td>\n",
       "    </tr>\n",
       "    <tr>\n",
       "      <th>2</th>\n",
       "      <td>4</td>\n",
       "      <td>2022</td>\n",
       "      <td>0</td>\n",
       "      <td>EMP234</td>\n",
       "      <td>PROD_008</td>\n",
       "      <td>0</td>\n",
       "      <td>ESP_008</td>\n",
       "      <td>0</td>\n",
       "    </tr>\n",
       "    <tr>\n",
       "      <th>3</th>\n",
       "      <td>5</td>\n",
       "      <td>2022</td>\n",
       "      <td>0</td>\n",
       "      <td>EMP234</td>\n",
       "      <td>PROD_008</td>\n",
       "      <td>0</td>\n",
       "      <td>ESP_008</td>\n",
       "      <td>0</td>\n",
       "    </tr>\n",
       "    <tr>\n",
       "      <th>4</th>\n",
       "      <td>7</td>\n",
       "      <td>2022</td>\n",
       "      <td>12</td>\n",
       "      <td>EMP290</td>\n",
       "      <td>PROD_008</td>\n",
       "      <td>11</td>\n",
       "      <td>ESP_008</td>\n",
       "      <td>123</td>\n",
       "    </tr>\n",
       "    <tr>\n",
       "      <th>5</th>\n",
       "      <td>8</td>\n",
       "      <td>2022</td>\n",
       "      <td>0</td>\n",
       "      <td>EMP234</td>\n",
       "      <td>PROD_008</td>\n",
       "      <td>33</td>\n",
       "      <td>ESP_008</td>\n",
       "      <td>33</td>\n",
       "    </tr>\n",
       "    <tr>\n",
       "      <th>6</th>\n",
       "      <td>9</td>\n",
       "      <td>2022</td>\n",
       "      <td>0</td>\n",
       "      <td>EMP256</td>\n",
       "      <td>PROD_008</td>\n",
       "      <td>123</td>\n",
       "      <td>ESP_008</td>\n",
       "      <td>444</td>\n",
       "    </tr>\n",
       "    <tr>\n",
       "      <th>7</th>\n",
       "      <td>10</td>\n",
       "      <td>2022</td>\n",
       "      <td>17</td>\n",
       "      <td>EMP256</td>\n",
       "      <td>PROD_008</td>\n",
       "      <td>12</td>\n",
       "      <td>ESP_008</td>\n",
       "      <td>2</td>\n",
       "    </tr>\n",
       "  </tbody>\n",
       "</table>\n",
       "</div>"
      ],
      "text/plain": [
       "   id  sales_year  sales_week sales_team prod_code  prod_sold esp_code  \\\n",
       "0   1        2022           0     EMP234  PROD_001        123  ESP_001   \n",
       "1   3        2022           8     EMP256  PROD_008          0  ESP_008   \n",
       "2   4        2022           0     EMP234  PROD_008          0  ESP_008   \n",
       "3   5        2022           0     EMP234  PROD_008          0  ESP_008   \n",
       "4   7        2022          12     EMP290  PROD_008         11  ESP_008   \n",
       "5   8        2022           0     EMP234  PROD_008         33  ESP_008   \n",
       "6   9        2022           0     EMP256  PROD_008        123  ESP_008   \n",
       "7  10        2022          17     EMP256  PROD_008         12  ESP_008   \n",
       "\n",
       "   esp_sold  \n",
       "0       333  \n",
       "1         0  \n",
       "2         0  \n",
       "3         0  \n",
       "4       123  \n",
       "5        33  \n",
       "6       444  \n",
       "7         2  "
      ]
     },
     "execution_count": 4,
     "metadata": {},
     "output_type": "execute_result"
    }
   ],
   "source": [
    "sitesales"
   ]
  },
  {
   "cell_type": "code",
   "execution_count": null,
   "id": "57865c1e",
   "metadata": {},
   "outputs": [],
   "source": []
  },
  {
   "cell_type": "code",
   "execution_count": null,
   "id": "2ebad4ce",
   "metadata": {},
   "outputs": [],
   "source": []
  }
 ],
 "metadata": {
  "kernelspec": {
   "display_name": "Python 3 (ipykernel)",
   "language": "python",
   "name": "python3"
  },
  "language_info": {
   "codemirror_mode": {
    "name": "ipython",
    "version": 3
   },
   "file_extension": ".py",
   "mimetype": "text/x-python",
   "name": "python",
   "nbconvert_exporter": "python",
   "pygments_lexer": "ipython3",
   "version": "3.9.7"
  }
 },
 "nbformat": 4,
 "nbformat_minor": 5
}
